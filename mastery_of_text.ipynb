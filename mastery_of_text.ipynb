{
 "cells": [
  {
   "cell_type": "code",
   "execution_count": 9,
   "id": "32e5509f-c277-40b4-8fcb-c3392748c61a",
   "metadata": {},
   "outputs": [
    {
     "name": "stdout",
     "output_type": "stream",
     "text": [
      "99968 lines in the text\n",
      "793396 words are in the text\n",
      "The word \"apostle\" appeared 47 times\n",
      "The word that appeared the most is \" the \" it was seen 64298 many times\n"
     ]
    }
   ],
   "source": [
    "import urllib.request\n",
    "\n",
    "upload = \"https://www.gutenberg.org/cache/epub/10/pg10.txt\"\n",
    "file = urllib.request.urlopen(upload)\n",
    "text = file.readlines()\n",
    "print(len(text) ,\"lines in the text\") \n",
    "file = urllib.request.urlopen(upload)\n",
    "decoded = file.read().decode(\"utf-8\")\n",
    "finaltext = decoded.split()\n",
    "\n",
    "def getword (wordsz):\n",
    "    speak = \"\"\n",
    "    wordamt = []\n",
    "    for word in wordsz:\n",
    "        speak = \"\"\n",
    "        for ch in word:\n",
    "            if ch.isalpha():\n",
    "                speak += ch.lower()\n",
    "        if speak != \"\":\n",
    "            wordamt.append(speak)\n",
    "            \n",
    "    if speak != \"\":\n",
    "            wordamt.append(speak)\n",
    "        \n",
    "    return wordamt\n",
    "\n",
    "words = getword(finaltext)\n",
    "print(len(words), \"words are in the text\")\n",
    "\n",
    "apostlecnt = 0\n",
    "for word in words:\n",
    "    if word == \"apostle\":\n",
    "        apostlecnt += 1\n",
    "print('The word \"apostle\" appeared',apostlecnt,\"times\")\n",
    "\n",
    "file = urllib.request.urlopen(upload)\n",
    "decoded = file.read().decode(\"utf-8\")\n",
    "words = decoded.lower().split()\n",
    "mydict = {}\n",
    "for word in words:\n",
    "    if word in mydict:\n",
    "        mydict[word] += 1\n",
    "    else:\n",
    "        mydict[word] = 1\n",
    "john = 0\n",
    "for keys in mydict:\n",
    "    if mydict[keys] > john:\n",
    "        john = mydict[keys]\n",
    "        most = keys\n",
    "\n",
    "print('The word that appeared the most is \"', most  ,'\" it was seen', mydict[most] ,\"many times\")"
   ]
  },
  {
   "cell_type": "code",
   "execution_count": null,
   "id": "b787858e-66aa-4e1f-b5d9-2422ba257155",
   "metadata": {},
   "outputs": [],
   "source": []
  }
 ],
 "metadata": {
  "kernelspec": {
   "display_name": "Python [conda env:base] *",
   "language": "python",
   "name": "conda-base-py"
  },
  "language_info": {
   "codemirror_mode": {
    "name": "ipython",
    "version": 3
   },
   "file_extension": ".py",
   "mimetype": "text/x-python",
   "name": "python",
   "nbconvert_exporter": "python",
   "pygments_lexer": "ipython3",
   "version": "3.13.5"
  }
 },
 "nbformat": 4,
 "nbformat_minor": 5
}
